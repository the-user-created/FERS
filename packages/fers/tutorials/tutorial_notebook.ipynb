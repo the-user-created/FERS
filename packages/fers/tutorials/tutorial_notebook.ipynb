{
 "cells": [
  {
   "cell_type": "markdown",
   "metadata": {},
   "source": [
    "# FERS Tutorial Notebook\n",
    "This notebook presents a tutorial to get FERS noobs up and running quickly.\n",
    "\n",
    "It is assumed that you are running FERS locally, i.e. `fers` can be run from anywhere in your terminal. Feel free to use the server.sh file if you have a remote setup."
   ]
  },
  {
   "cell_type": "markdown",
   "metadata": {},
   "source": [
    "First, import some important modules."
   ]
  },
  {
   "cell_type": "code",
   "execution_count": null,
   "metadata": {},
   "outputs": [],
   "source": [
    "import fers as fers\n",
    "\n",
    "import os\n",
    "import matplotlib.pyplot as plt\n",
    "import numpy as np\n",
    "\n",
    "from numpy import matlib as mb\n",
    "from scipy.signal import spectrogram, decimate"
   ]
  },
  {
   "cell_type": "markdown",
   "metadata": {},
   "source": [
    "Next, set some constants and default file names."
   ]
  },
  {
   "cell_type": "code",
   "execution_count": null,
   "metadata": {},
   "outputs": [],
   "source": [
    "FERS_INPUT_FILENAME = \"up_chirp.h5\"\n",
    "FERS_XML_FILENAME = \"sim.fersxml\"\n",
    "FERS_OUTPUT_FILENAME = \"receiver.h5\"\n",
    "\n",
    "BOLTZMANN = 1.38064852e-23\n",
    "c = 299792458"
   ]
  },
  {
   "cell_type": "markdown",
   "metadata": {},
   "source": [
    "Define a couple of convenience functions."
   ]
  },
  {
   "cell_type": "code",
   "execution_count": null,
   "metadata": {},
   "outputs": [],
   "source": [
    "def lin2db(lin):\n",
    "    '''\n",
    "    Conversion from linear to decibels.\n",
    "    '''\n",
    "    return 10*np.log10(lin)\n",
    "\n",
    "def achirp(period, sample_rate, bandwidth, init_freq=0, tau=0, phi=0):\n",
    "    '''\n",
    "    Generate an analytic baseband chirp.\n",
    "    '''\n",
    "    ns_chirp = int(np.ceil(period*sample_rate))\n",
    "    t_chirp = np.linspace(-period/2, period/2, ns_chirp, endpoint=False)\n",
    "    return np.exp(1.j*(np.pi*bandwidth/(2*max(t_chirp))*pow((t_chirp - tau), 2) + 2*np.pi*init_freq*(t_chirp - tau) + phi))\n",
    "\n",
    "def next_pow_two(number):\n",
    "    '''\n",
    "    Returns the next power of two.\n",
    "    '''\n",
    "    return int(pow(2, np.ceil(np.log2(number))))"
   ]
  },
  {
   "cell_type": "markdown",
   "metadata": {},
   "source": [
    "Define the Target class."
   ]
  },
  {
   "cell_type": "code",
   "execution_count": null,
   "metadata": {},
   "outputs": [],
   "source": [
    "class Target:\n",
    "    def __init__(self, name, x, y, z, t, rcs):\n",
    "        self.name = name\n",
    "        self.x = x\n",
    "        self.y = y\n",
    "        self.z = z\n",
    "        self.t = t\n",
    "        self.rcs = rcs"
   ]
  },
  {
   "cell_type": "markdown",
   "metadata": {},
   "source": [
    "Now, set parameters about the radar platform."
   ]
  },
  {
   "cell_type": "code",
   "execution_count": null,
   "metadata": {},
   "outputs": [],
   "source": [
    "velocity = 30\n",
    "height = 1\n",
    "n_seconds = 1\n",
    "\n",
    "distance = n_seconds * velocity\n",
    "\n",
    "waypoints = np.array([\n",
    "    [0, 0],\n",
    "    [0, distance],\n",
    "    [height, height],\n",
    "    [0, n_seconds]\n",
    "])"
   ]
  },
  {
   "cell_type": "markdown",
   "metadata": {},
   "source": [
    "Add as many targets as you please."
   ]
  },
  {
   "cell_type": "code",
   "execution_count": null,
   "metadata": {},
   "outputs": [],
   "source": [
    "targets = []\n",
    "targets.append(Target(name='A', x=[600], y=[15], z=[0.1], t=[0], rcs=50))\n",
    "targets.append(Target(name='B', x=[400], y=[10], z=[0.1], t=[0], rcs=100))\n",
    "targets.append(Target(name='c', x=[50], y=[15], z=[1], t=[0], rcs=100))"
   ]
  },
  {
   "cell_type": "markdown",
   "metadata": {},
   "source": [
    "Radar parameters are set next."
   ]
  },
  {
   "cell_type": "code",
   "execution_count": null,
   "metadata": {},
   "outputs": [],
   "source": [
    "fc = 2.4e9\n",
    "wavelength = c/fc\n",
    "ramp_bandwidth = 50e6\n",
    "adc_rate = 100e6\n",
    "decimation_factor = 100\n",
    "os_factor = 1\n",
    "adc_bits = 14\n",
    "rf_sim_rate = adc_rate * os_factor\n",
    "tx_power = 10 # watt\n",
    "noise_temp = 290\n",
    "noise_density = BOLTZMANN * noise_temp # [W/Hz]\n",
    "\n",
    "print('Noise density:', np.round(lin2db(noise_density) + 30, 2), '[dBm/Hz]')\n",
    "\n",
    "prf = 1000 # Hz\n",
    "ramp_period = 1/prf\n",
    "bb_sample_rate = adc_rate/decimation_factor\n",
    "\n",
    "n_pulses = int(prf*n_seconds)\n",
    "ns_pulse = int(ramp_period*bb_sample_rate)\n",
    "ns_fft = next_pow_two(ns_pulse)\n",
    "\n",
    "# time axes\n",
    "t_rf  = np.linspace(0, ramp_period, int(ramp_period*rf_sim_rate), endpoint=False)\n",
    "t_adc = np.linspace(0, ramp_period, int(ramp_period), endpoint=False)\n",
    "t_bb = np.linspace(0, ramp_period, int(ramp_period*bb_sample_rate), endpoint=False)\n",
    "\n",
    "f_fft = np.linspace(-bb_sample_rate/2, bb_sample_rate/2, ns_fft, endpoint=False)\n",
    "r_fft = ramp_period/ramp_bandwidth * c/2 * f_fft\n",
    "\n",
    "if (rf_sim_rate < ramp_bandwidth):\n",
    "    print(\"Simulation sample rate insufficient, increase the over-sampling factor.\")\n",
    "    exit()"
   ]
  },
  {
   "cell_type": "markdown",
   "metadata": {},
   "source": [
    "Generate and plot the TX waveform."
   ]
  },
  {
   "cell_type": "code",
   "execution_count": null,
   "metadata": {},
   "outputs": [],
   "source": [
    "tx_chirp = achirp(\n",
    "    period = ramp_period,\n",
    "    sample_rate = rf_sim_rate,\n",
    "    bandwidth = ramp_bandwidth,\n",
    "    tau = 0\n",
    "    )\n",
    "\n",
    "f, t, spect = spectrogram(\n",
    "    tx_chirp, \n",
    "    fs=rf_sim_rate, \n",
    "    nperseg=128, \n",
    "    nfft=512, \n",
    "    noverlap=0, \n",
    "    mode='magnitude', \n",
    "    window='blackman', \n",
    "    return_onesided=False, \n",
    "    detrend=False\n",
    ")\n",
    "\n",
    "spect = lin2db(np.abs(spect))\n",
    "spect -= spect.max()\n",
    "\n",
    "spect = np.fft.fftshift(spect, axes=0)\n",
    "t *= 1e6\n",
    "f = np.fft.fftshift(f)/1e6\n",
    "\n",
    "plt.figure()\n",
    "plt.hlines(ramp_bandwidth/2e6, t[0], t[-1], linestyles='--', colors='white')\n",
    "plt.hlines(-ramp_bandwidth/2e6, t[0], t[-1], linestyles='--', colors='white')\n",
    "plt.pcolormesh(t, f, spect)\n",
    "plt.title('Spectrogram of TX Waveform')\n",
    "plt.xlabel('Time [µs]')\n",
    "plt.ylabel('Frequency [MHz]')\n",
    "plt.tight_layout()"
   ]
  },
  {
   "cell_type": "markdown",
   "metadata": {},
   "source": [
    "Set the spacing between transmit and receive antennas."
   ]
  },
  {
   "cell_type": "code",
   "execution_count": null,
   "metadata": {},
   "outputs": [],
   "source": [
    "antenna_spacing = [0, 0.5, 0]\n",
    "iso_rx_ft = lin2db(tx_power * pow(wavelength/(4*np.pi*np.sqrt(antenna_spacing[0]**2 + antenna_spacing[1]**2 + antenna_spacing[2]**2)), 2)) + 30\n",
    "print('Feed-through at isotropic RX antenna:', np.round(iso_rx_ft, 2), '[dBm]')"
   ]
  },
  {
   "cell_type": "markdown",
   "metadata": {},
   "source": [
    "Generate the FERS XML file and run the simulation."
   ]
  },
  {
   "cell_type": "code",
   "execution_count": null,
   "metadata": {},
   "outputs": [],
   "source": [
    "output_dir = os.path.abspath(os.getcwd())\n",
    "\n",
    "fers.write_hdf5(tx_chirp, os.path.join(output_dir, FERS_INPUT_FILENAME))\n",
    "\n",
    "fers_xml = fers.FersXMLGenerator(os.path.join(output_dir, FERS_XML_FILENAME))\n",
    "\n",
    "fers_xml.add_parameters(\n",
    "    t_start=1/prf,\n",
    "    t_end=n_seconds,\n",
    "    sim_rate=rf_sim_rate,\n",
    "    bits=adc_bits\n",
    "    )\n",
    "\n",
    "fers_xml.add_pulse(\n",
    "    name='up_chirp',\n",
    "    pulse_file=FERS_INPUT_FILENAME,\n",
    "    power_watts=tx_power,\n",
    "    centre_freq=fc\n",
    "    )\n",
    "\n",
    "fers_xml.add_clock(name='clock', frequency=adc_rate, synconpulse='false')\n",
    "\n",
    "fers_xml.add_antenna(name='tx_rx_antenna', pattern='isotropic')\n",
    "# fers.add_antenna(name='tx_rx_antenna', pattern='parabolic', d=0.1)\n",
    "# fers.add_antenna(name='tx_rx_antenna', pattern='sinc', a=pow(10, ANTENNA_GAIN/10), b=2, g=5, is_plot=True)\n",
    "\n",
    "fers_xml.add_pseudo_monostatic_radar(\n",
    "    spacing=antenna_spacing,\n",
    "    waypoints=waypoints,\n",
    "    antenna='tx_rx_antenna',\n",
    "    timing='clock',\n",
    "    prf=prf,\n",
    "    pulse='up_chirp',\n",
    "    window_length=ramp_period,\n",
    "    noise_temp=noise_temp,\n",
    "    nodirect='true'\n",
    ")\n",
    "\n",
    "for target in targets:            \n",
    "    fers_xml.add_target(\n",
    "        name = target.name,\n",
    "        x = target.x,\n",
    "        y = target.y,\n",
    "        z = target.z,\n",
    "        t = target.t,\n",
    "        rcs = target.rcs\n",
    "    )\n",
    "\n",
    "fers_xml.write_xml()\n",
    "fers_xml.run()\n",
    "del fers_xml\n",
    "\n",
    "rx_matrix = fers.read_hdf5(FERS_OUTPUT_FILENAME)"
   ]
  },
  {
   "cell_type": "markdown",
   "metadata": {},
   "source": [
    "Perform RF dechirp by mixing RX and DX and filtering result.\n",
    "Analytic representation eliminates need to filter."
   ]
  },
  {
   "cell_type": "code",
   "execution_count": null,
   "metadata": {},
   "outputs": [],
   "source": [
    "# dx_chirp is a row vector -> repeat over several rows\n",
    "# now rx_matrix and dx_matrix both have pulses as rows (axis = 1)\n",
    "dx_matrix = mb.repmat(tx_chirp, n_pulses, 1)\n",
    "\n",
    "bb_matrix = np.multiply(dx_matrix, np.conjugate(rx_matrix))\n",
    "# del rx_matrix, dx_matrix"
   ]
  },
  {
   "cell_type": "markdown",
   "metadata": {},
   "source": [
    "Decimate the data to the final sample rate."
   ]
  },
  {
   "cell_type": "code",
   "execution_count": null,
   "metadata": {},
   "outputs": [],
   "source": [
    "# decimate to ADC rate\n",
    "bb_matrix = decimate(bb_matrix, os_factor, axis=1, zero_phase=True)\n",
    "# decimate to final sample rate\n",
    "bb_matrix = decimate(bb_matrix, decimation_factor, ftype='fir', axis=1)"
   ]
  },
  {
   "cell_type": "markdown",
   "metadata": {},
   "source": [
    "Transpose the data matrix for pulses down each column."
   ]
  },
  {
   "cell_type": "code",
   "execution_count": null,
   "metadata": {},
   "outputs": [],
   "source": [
    "bb_matrix = np.transpose(bb_matrix)"
   ]
  },
  {
   "cell_type": "markdown",
   "metadata": {},
   "source": [
    "Plot the time domain beat signal."
   ]
  },
  {
   "cell_type": "code",
   "execution_count": null,
   "metadata": {},
   "outputs": [],
   "source": [
    "plt.figure()\n",
    "plt.plot(t_bb*1e6, bb_matrix[:, 0])\n",
    "plt.xlabel('Time (us)')"
   ]
  },
  {
   "cell_type": "markdown",
   "metadata": {},
   "source": [
    "Apply a window of your choice to the time domain beat signal."
   ]
  },
  {
   "cell_type": "code",
   "execution_count": null,
   "metadata": {},
   "outputs": [],
   "source": [
    "window_matrix = np.blackman(ns_pulse)\n",
    "\n",
    "window_matrix = np.transpose(\n",
    "    np.tile(window_matrix, (n_pulses, 1)))\n",
    "\n",
    "bb_matrix = np.multiply(bb_matrix, window_matrix)"
   ]
  },
  {
   "cell_type": "markdown",
   "metadata": {},
   "source": [
    "Take FFT of each beat signal."
   ]
  },
  {
   "cell_type": "code",
   "execution_count": null,
   "metadata": {},
   "outputs": [],
   "source": [
    "bb_matrix = np.fft.fftshift(np.fft.fft(\n",
    "    bb_matrix, ns_fft, axis=0), axes=0)"
   ]
  },
  {
   "cell_type": "markdown",
   "metadata": {},
   "source": [
    "Plot a range profile of the pulse in the middle of the experiment."
   ]
  },
  {
   "cell_type": "code",
   "execution_count": null,
   "metadata": {},
   "outputs": [],
   "source": [
    "plt.figure()\n",
    "plt.plot(r_fft, lin2db(abs(bb_matrix[:, n_pulses//2])))\n",
    "plt.xlim(0, r_fft[-1])\n",
    "plt.grid()\n",
    "plt.xlabel('Range (m)')"
   ]
  },
  {
   "cell_type": "markdown",
   "metadata": {},
   "source": [
    "Generate a range-time-intensity plot of the data matrix."
   ]
  },
  {
   "cell_type": "code",
   "execution_count": null,
   "metadata": {},
   "outputs": [],
   "source": [
    "image_axes = [0, n_seconds, r_fft[-1], r_fft[0]]\n",
    "\n",
    "fig, ax = plt.subplots(nrows=1, ncols=1)\n",
    "im = ax.imshow(\n",
    "    lin2db(abs(bb_matrix)),\n",
    "    aspect='auto',\n",
    "    # vmax=vmax,\n",
    "    # vmin=vmin,\n",
    "    interpolation='none',\n",
    "    # cmap=cmap,\n",
    "    extent=image_axes,\n",
    ")\n",
    "ax.set_ylim(0, r_fft[-1])\n",
    "ax.set_xlabel('Time (s)')\n",
    "ax.set_ylabel('Range (m)')\n",
    "# ax.grid()"
   ]
  }
 ],
 "metadata": {
  "kernelspec": {
   "display_name": "Python 3",
   "language": "python",
   "name": "python3"
  },
  "language_info": {
   "codemirror_mode": {
    "name": "ipython",
    "version": 3
   },
   "file_extension": ".py",
   "mimetype": "text/x-python",
   "name": "python",
   "nbconvert_exporter": "python",
   "pygments_lexer": "ipython3",
   "version": "3.10.4"
  }
 },
 "nbformat": 4,
 "nbformat_minor": 4
}
